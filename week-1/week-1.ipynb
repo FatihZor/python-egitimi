{
 "cells": [
  {
   "cell_type": "markdown",
   "metadata": {},
   "source": [
    "# WEEK-1 (13.12.2023)\n",
    "\n",
    "## print() Fonksiyonu Kullanım Biçimleri\n",
    "\n",
    "\n",
    "In[1]: `print(\"hello\")`\n",
    "\n",
    "Out[1]: hello\n",
    "\n",
    "\n",
    "In[2]: `print(\"hello\", \"world\")`\n",
    "\n",
    "Out[2]: hello world\n",
    "\n",
    "\n",
    "In[3]: `print(\"hello\", \"world\", sep=\"-\")`\n",
    "\n",
    "Out[3]: hello-world\n",
    "\n",
    "\n",
    "In[4]: `print(\"hello\", \"world\", end=\". \")`\n",
    "\n",
    "In[5]: `print(\"hello\", \"yaget\", end=\". \")`\n",
    "\n",
    "Out[5]: hello world. hello yaget.\n"
   ]
  },
  {
   "cell_type": "code",
   "execution_count": 5,
   "metadata": {},
   "outputs": [
    {
     "name": "stdout",
     "output_type": "stream",
     "text": [
      "hello\n",
      "hello world\n",
      "hello-world\n",
      "hello world. hello yaget. "
     ]
    }
   ],
   "source": [
    "print(\"hello\")\n",
    "print(\"hello\", \"world\")\n",
    "print(\"hello\", \"world\", sep=\"-\")\n",
    "print(\"hello\", \"world\", end=\". \")\n",
    "print(\"hello\", \"yaget\", end=\". \")"
   ]
  },
  {
   "cell_type": "markdown",
   "metadata": {},
   "source": [
    "### print() Fonksiyonu Format Kullanımı\n",
    "\n",
    "In[6]: `isim = \"Yavuz Selim\"`\n",
    "In[7]: `print(\"Hoşgeldin {}!\".format(isim))`\n",
    "\n",
    "Out[7]: Hoşgeldin Yavuz Selim!\n",
    "\n",
    "In[8]: `isim = \"Ahmet Berk\"`\n",
    "In[9]: `print(\"Hoşgeldin {0}!\".format(isim))`\n",
    "\n",
    "Out[9]: Hoşgeldin Ahmet Berk!\n",
    "\n",
    "In[10]: `isim = \"Mahmut Tuncer\"`\n",
    "In[11]: `print(f\"Hoşgeldin {isim}!\")`"
   ]
  },
  {
   "cell_type": "code",
   "execution_count": 6,
   "metadata": {},
   "outputs": [
    {
     "name": "stdout",
     "output_type": "stream",
     "text": [
      "Hoşgeldin Yavuz Selim!\n",
      "Hoşgeldin Ahmet Berk!\n",
      "Hoşgeldin Mahmut Tuncer!\n"
     ]
    }
   ],
   "source": [
    "isim = \"Yavuz Selim\"\n",
    "print(\"Hoşgeldin {}!\".format(isim))\n",
    "\n",
    "isim = \"Ahmet Berk\"\n",
    "print(\"Hoşgeldin {0}!\".format(isim))\n",
    "\n",
    "isim = \"Mahmut Tuncer\"\n",
    "print(f\"Hoşgeldin {isim}!\")"
   ]
  }
 ],
 "metadata": {
  "kernelspec": {
   "display_name": "yaget",
   "language": "python",
   "name": "python3"
  },
  "language_info": {
   "codemirror_mode": {
    "name": "ipython",
    "version": 3
   },
   "file_extension": ".py",
   "mimetype": "text/x-python",
   "name": "python",
   "nbconvert_exporter": "python",
   "pygments_lexer": "ipython3",
   "version": "3.9.1"
  }
 },
 "nbformat": 4,
 "nbformat_minor": 2
}
