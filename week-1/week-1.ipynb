{
 "cells": [
  {
   "cell_type": "markdown",
   "metadata": {},
   "source": [
    "# WEEK-1 (13.12.2023)\n",
    "\n",
    "## print() Fonksiyonu Kullanım Biçimleri\n"
   ]
  },
  {
   "cell_type": "code",
   "execution_count": 1,
   "metadata": {},
   "outputs": [
    {
     "name": "stdout",
     "output_type": "stream",
     "text": [
      "hello\n",
      "hello world\n",
      "hello-world\n",
      "hello world. hello yaget. "
     ]
    }
   ],
   "source": [
    "print(\"hello\")\n",
    "print(\"hello\", \"world\")\n",
    "print(\"hello\", \"world\", sep=\"-\")\n",
    "print(\"hello\", \"world\", end=\". \")\n",
    "print(\"hello\", \"yaget\", end=\". \")"
   ]
  },
  {
   "cell_type": "markdown",
   "metadata": {},
   "source": [
    "\n",
    "\n",
    "### print() Fonksiyonu Format Kullanımı\n"
   ]
  },
  {
   "cell_type": "code",
   "execution_count": 2,
   "metadata": {},
   "outputs": [
    {
     "name": "stdout",
     "output_type": "stream",
     "text": [
      "Hoşgeldin Yavuz Selim!\n",
      "Hoşgeldin Ahmet Berk!\n",
      "Hoşgeldin Mahmut Tuncer!\n"
     ]
    }
   ],
   "source": [
    "isim = \"Yavuz Selim\"\n",
    "print(\"Hoşgeldin {}!\".format(isim))\n",
    "\n",
    "isim = \"Ahmet Berk\"\n",
    "print(\"Hoşgeldin {0}!\".format(isim))\n",
    "\n",
    "isim = \"Mahmut Tuncer\"\n",
    "print(f\"Hoşgeldin {isim}!\")"
   ]
  },
  {
   "cell_type": "markdown",
   "metadata": {},
   "source": [
    "\n",
    "\n",
    "## input() Fonksiyonu Kullanım Biçimleri"
   ]
  },
  {
   "cell_type": "code",
   "execution_count": 3,
   "metadata": {},
   "outputs": [
    {
     "name": "stdout",
     "output_type": "stream",
     "text": [
      "Hoşgeldin Fatih!\n",
      "Hoşgeldin Fatih!\n",
      "Hoşgeldin Fatih!"
     ]
    }
   ],
   "source": [
    "isim = input(\"Lütfen isminizi girin: \")\n",
    "# isim olarak Fatih girildi!\n",
    "\n",
    "print(f\"Hoşgeldin {isim}!\")\n",
    "print(\"Hoşgeldin \" + isim + \"!\")\n",
    "print(\"Hoşgeldin {}\".format(isim), end=\"!\")"
   ]
  },
  {
   "cell_type": "code",
   "execution_count": 4,
   "metadata": {},
   "outputs": [
    {
     "name": "stdout",
     "output_type": "stream",
     "text": [
      "5\n"
     ]
    }
   ],
   "source": [
    "sayi1 = int(input(\"1. Sayıyı girin: \"))\n",
    "sayi2 = int(input(\"2. Sayıyı girin: \"))\n",
    "# sayi1 = 2\n",
    "# sayi2 = 3\n",
    "\n",
    "print(sayi1 + sayi2)"
   ]
  },
  {
   "cell_type": "code",
   "execution_count": 5,
   "metadata": {},
   "outputs": [
    {
     "name": "stdout",
     "output_type": "stream",
     "text": [
      "32\n"
     ]
    }
   ],
   "source": [
    "sayi1 = input(\"1. Sayıyı girin: \")\n",
    "sayi2 = input(\"2. Sayıyı girin: \")\n",
    "# sayi1 = 9\n",
    "# sayi2 = 23\n",
    " \n",
    "print(int(sayi1) + int(sayi2))"
   ]
  },
  {
   "cell_type": "markdown",
   "metadata": {},
   "source": [
    "## Python'da bir değişkenin veri tipini öğrenmek için type() fonksiyonu kullanılır."
   ]
  },
  {
   "cell_type": "code",
   "execution_count": 6,
   "metadata": {},
   "outputs": [
    {
     "name": "stdout",
     "output_type": "stream",
     "text": [
      "<class 'int'>\n",
      "<class 'float'>\n"
     ]
    }
   ],
   "source": [
    "x = 5\n",
    "print(type(x))\n",
    "y = 5.1\n",
    "print(type(y))"
   ]
  },
  {
   "cell_type": "markdown",
   "metadata": {},
   "source": [
    "## Veri Tipleri\n",
    "\n",
    "### Tam Sayılar (int)\n",
    "a = 5\n",
    "### Ondalıklı Sayılar (float)\n",
    "b = 3.0"
   ]
  },
  {
   "cell_type": "code",
   "execution_count": 7,
   "metadata": {},
   "outputs": [
    {
     "name": "stdout",
     "output_type": "stream",
     "text": [
      "8.0\n",
      "<class 'float'>\n",
      "2.0\n",
      "<class 'float'>\n",
      "15.0\n",
      "<class 'float'>\n",
      "1.6666666666666667\n",
      "<class 'float'>\n"
     ]
    }
   ],
   "source": [
    "a = 5   # int\n",
    "b = 3.0 # float\n",
    "\n",
    "c = a + b\n",
    "d = a - b\n",
    "e = a * b\n",
    "f = a / b\n",
    "\n",
    "print(c) \n",
    "print(type(c))\n",
    "\n",
    "print(d) \n",
    "print(type(d))\n",
    "\n",
    "print(e) \n",
    "print(type(e))\n",
    "\n",
    "print(f) \n",
    "print(type(f))\n"
   ]
  },
  {
   "cell_type": "markdown",
   "metadata": {},
   "source": [
    "### Karakter Dizileri (str) "
   ]
  },
  {
   "cell_type": "code",
   "execution_count": 8,
   "metadata": {},
   "outputs": [
    {
     "name": "stdout",
     "output_type": "stream",
     "text": [
      "Fatih\n",
      "<class 'str'>\n"
     ]
    }
   ],
   "source": [
    "isim = \"Fatih\"\n",
    "\n",
    "print(isim)\n",
    "print(type(isim))"
   ]
  },
  {
   "cell_type": "markdown",
   "metadata": {},
   "source": [
    "\n",
    "### Liste (list)\n",
    "\n",
    "#### Liste içerisindeki değerlere erişim adımları. İndexler 0'dan başlar."
   ]
  },
  {
   "cell_type": "code",
   "execution_count": 9,
   "metadata": {},
   "outputs": [
    {
     "name": "stdout",
     "output_type": "stream",
     "text": [
      "0. indexteki rakam =  1\n",
      "5. indexteki rakam =  6\n",
      "3 değeri 2. indexte\n"
     ]
    }
   ],
   "source": [
    "liste = [1,2,3,4,5,6,\"yedi\"]\n",
    "\n",
    "# listenin 0. indexini yazdırma\n",
    "print(\"0. indexteki rakam = \", liste[0])\n",
    "\n",
    "# listenin 5. indexini yazdırma\n",
    "print(\"5. indexteki rakam = \", liste[5])\n",
    "\n",
    "# listedeki 3 değerinin indexini bulma\n",
    "print(\"3 değeri {}. indexte\".format(liste.index(3)))"
   ]
  },
  {
   "cell_type": "markdown",
   "metadata": {},
   "source": [
    "\n",
    "#### Liste içerisine yeni bir değer ekleme ve çıkarma\n"
   ]
  },
  {
   "cell_type": "code",
   "execution_count": 10,
   "metadata": {},
   "outputs": [
    {
     "name": "stdout",
     "output_type": "stream",
     "text": [
      "[1, 2, 3, 4, 5, 6, 'yedi', 'yeni deger']\n"
     ]
    }
   ],
   "source": [
    "liste = [1,2,3,4,5,6,\"yedi\"]\n",
    "\n",
    "liste.append(\"yeni deger\") # listenin sonuna ekler\n",
    "print(liste)"
   ]
  },
  {
   "cell_type": "code",
   "execution_count": 11,
   "metadata": {},
   "outputs": [
    {
     "name": "stdout",
     "output_type": "stream",
     "text": [
      "[1, 'yeni deger', 2, 3, 4, 5, 6, 'yedi']\n"
     ]
    }
   ],
   "source": [
    "liste = [1,2,3,4,5,6,\"yedi\"]\n",
    "\n",
    "liste.insert(1, \"yeni deger\") # listenin 1. indexine ekler\n",
    "print(liste)"
   ]
  },
  {
   "cell_type": "code",
   "execution_count": 12,
   "metadata": {},
   "outputs": [
    {
     "name": "stdout",
     "output_type": "stream",
     "text": [
      "[1, 2, 3, 4, 5, 6, 'yedi']\n"
     ]
    }
   ],
   "source": [
    "liste = [1,2,3,4,5,6,\"yedi\",999]\n",
    "\n",
    "liste.remove(999) # listenin içerisinde 999 değerini bulur ve siler\n",
    "print(liste)"
   ]
  },
  {
   "cell_type": "code",
   "execution_count": 13,
   "metadata": {},
   "outputs": [
    {
     "name": "stdout",
     "output_type": "stream",
     "text": [
      "[1, 2, 3, 5, 6, 'yedi']\n"
     ]
    }
   ],
   "source": [
    "liste = [1,2,3,4,5,6,\"yedi\"]\n",
    "\n",
    "liste.pop(3) # listenin 3. indexini siler\n",
    "print(liste)"
   ]
  },
  {
   "cell_type": "markdown",
   "metadata": {},
   "source": [
    "#### Liste içerisinde bir değeri değiştirme"
   ]
  },
  {
   "cell_type": "code",
   "execution_count": 14,
   "metadata": {},
   "outputs": [
    {
     "name": "stdout",
     "output_type": "stream",
     "text": [
      "[1, 'yeni deger', 3, 4, 5, 6, 'yedi']\n"
     ]
    }
   ],
   "source": [
    "liste = [1,2,3,4,5,6,\"yedi\"]\n",
    "\n",
    "liste[1] = \"yeni deger\" # listenin 1. indexinin değerini \"yeni deger\" yapar\n",
    "print(liste)"
   ]
  }
 ],
 "metadata": {
  "kernelspec": {
   "display_name": "yaget",
   "language": "python",
   "name": "python3"
  },
  "language_info": {
   "codemirror_mode": {
    "name": "ipython",
    "version": 3
   },
   "file_extension": ".py",
   "mimetype": "text/x-python",
   "name": "python",
   "nbconvert_exporter": "python",
   "pygments_lexer": "ipython3",
   "version": "3.9.1"
  }
 },
 "nbformat": 4,
 "nbformat_minor": 2
}
