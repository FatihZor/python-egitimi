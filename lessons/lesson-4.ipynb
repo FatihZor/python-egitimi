{
 "cells": [
  {
   "cell_type": "markdown",
   "metadata": {},
   "source": [
    "# String Methods (27.12.2023)\n",
    "\n",
    "Substring işlemleri, bir dizgiyi (string) parçalara bölmek veya belirli bir alt dizesini almak için kullanılır. Python'da bir stringin belirli bir kısmını alma işlemi dilimleme (slicing) adı verilen yöntemle gerçekleştirilir.\n",
    "\n"
   ]
  },
  {
   "cell_type": "markdown",
   "metadata": {},
   "source": [
    "## Dilimleme (Slicing) ile Substring Alma:\n",
    "Python'da string dilimleme işlemi string[start:stop:step] şeklinde yapılır.\n",
    "\n",
    "start: Dilimlemenin başlangıç indeksi. Bu indeksteki karakter dilimlenen parçanın başlangıcı olur (dahil).\n",
    "stop: Dilimlemenin bitiş indeksi. Bu indeks, dilimlenen parçanın sonunu oluşturur (hariç).\n",
    "step (opsiyonel): Karakterler arasındaki adım miktarını belirtir.\n",
    "Örneklerle göstermek gerekirse:\n",
    "\n"
   ]
  },
  {
   "cell_type": "code",
   "execution_count": 1,
   "metadata": {},
   "outputs": [
    {
     "name": "stdout",
     "output_type": "stream",
     "text": [
      "Python\n",
      "Python\n",
      "Programlama\n",
      "lama\n",
      "Pto rgalm\n",
      "amalmargorP nohtyP\n"
     ]
    }
   ],
   "source": [
    "# Örnek bir string\n",
    "string_ornek = \"Python Programlama\"\n",
    "\n",
    "# Belirli bir aralıktaki karakterleri alma\n",
    "substring_1 = string_ornek[0:6]  # 0'dan 6'ya kadar (6 hariç)\n",
    "print(substring_1)  # Çıktı: Python\n",
    "\n",
    "# İlk 6 karakteri alma (0'dan başlayarak 6'ya kadar)\n",
    "substring_2 = string_ornek[:6]\n",
    "print(substring_2)  # Çıktı: Python\n",
    "\n",
    "# 7. karakterden sonraki kısmı alma\n",
    "substring_3 = string_ornek[7:]\n",
    "print(substring_3)  # Çıktı: Programlama\n",
    "\n",
    "# Son 4 karakteri alma\n",
    "substring_4 = string_ornek[-4:]\n",
    "print(substring_4)  # Çıktı: mama\n",
    "\n",
    "# İkişer atlayarak stringi alma\n",
    "substring_5 = string_ornek[::2]\n",
    "print(substring_5)  # Çıktı: Pto rgalm\n",
    "\n",
    "# Stringi ters çevirme\n",
    "substring_6 = string_ornek[::-1]\n",
    "print(substring_6)  # Çıktı: amalmargorP nohtyP"
   ]
  }
 ],
 "metadata": {
  "kernelspec": {
   "display_name": "yaget",
   "language": "python",
   "name": "python3"
  },
  "language_info": {
   "codemirror_mode": {
    "name": "ipython",
    "version": 3
   },
   "file_extension": ".py",
   "mimetype": "text/x-python",
   "name": "python",
   "nbconvert_exporter": "python",
   "pygments_lexer": "ipython3",
   "version": "3.9.1"
  }
 },
 "nbformat": 4,
 "nbformat_minor": 2
}
